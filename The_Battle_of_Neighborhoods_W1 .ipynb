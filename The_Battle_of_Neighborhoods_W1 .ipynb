{
 "cells": [
  {
   "cell_type": "markdown",
   "metadata": {},
   "source": [
    "# The Battle of Neighborhoods (Week 1)"
   ]
  },
  {
   "cell_type": "markdown",
   "metadata": {},
   "source": [
    "## 1. Introduction/Business Problem"
   ]
  },
  {
   "cell_type": "markdown",
   "metadata": {},
   "source": [
    "*A description of the problem and a discussion of the background.*\n",
    "\n",
    "The objective of this project is to explore the options for future graduate students in four cities: Los Angeles, Montreal, Lyon and Barcelona.\n",
    "\n",
    "When students are deciding to which unversity they would like to go, there are many option, and not only academic, that they need to consider. It is important for these students that they have access to libraries, restaurants, grocery stores and probably other unversities to have a enjoyable experience during these acamedic years.\n",
    "\n",
    "In order to assess the suitability of the different cities for student life, I will evaluate the unversities, restaurants, libraries and shops in a radius of 50 km in four cities: Los Angeles, Montreal, Lyon and Barcelona."
   ]
  },
  {
   "cell_type": "code",
   "execution_count": null,
   "metadata": {},
   "outputs": [],
   "source": []
  },
  {
   "cell_type": "markdown",
   "metadata": {},
   "source": [
    "## 2. Data"
   ]
  },
  {
   "cell_type": "markdown",
   "metadata": {},
   "source": [
    "*A description of the data that will be used to solve the problem and the source of the data.*\n",
    "\n",
    "The data will be obtained from Foursquare. \n",
    "\n",
    "The methodology that I will follow is:\n",
    "\n",
    "1. I will search for venues in the cities of interest (Los Angeles, Montreal, Lyon and Barcelona) in a radius of 50 km.\n",
    "\n",
    "2. I will filtered for the venues I am interested in: universities, restaurants, libraries, shops/stores.\n",
    "\n",
    "3. I will visualize the items in a map.\n",
    "\n",
    "4. I will compare the neighborhoods of the four cities of interest.  \n"
   ]
  }
 ],
 "metadata": {
  "kernelspec": {
   "display_name": "Python 3",
   "language": "python",
   "name": "python3"
  },
  "language_info": {
   "codemirror_mode": {
    "name": "ipython",
    "version": 3
   },
   "file_extension": ".py",
   "mimetype": "text/x-python",
   "name": "python",
   "nbconvert_exporter": "python",
   "pygments_lexer": "ipython3",
   "version": "3.7.3"
  }
 },
 "nbformat": 4,
 "nbformat_minor": 2
}
